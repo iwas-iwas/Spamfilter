{
 "cells": [
  {
   "cell_type": "markdown",
   "metadata": {},
   "source": [
    "# Spam Classification Project - Iwas Iwas\n",
    "\n",
    "<img src=\"Data/spam.jpg\" />\n",
    "\n",
    "## Structure\n",
    "\n",
    "- Import libaries\n",
    "\n",
    "- Data Cleaning \n",
    "\n",
    "- Exploratory Data Analysis \n",
    "\n",
    "- Data Preprocessing (Count Vectorizer)\n",
    "\n",
    "- Modeling (Multinomial Naive Bayes, Hyperparameter Tuning)\n",
    "\n",
    "- Model Evaluation\n",
    "\n",
    "## Import libaries"
   ]
  },
  {
   "cell_type": "code",
   "execution_count": 1,
   "metadata": {},
   "outputs": [],
   "source": [
    "import pandas as pd\n",
    "import numpy as np\n",
    "import matplotlib.pyplot as plt\n",
    "%matplotlib inline\n",
    "import seaborn as sns\n",
    "import pandas as pd\n",
    "import itertools\n",
    "from collections import Counter\n",
    "from sklearn.metrics import confusion_matrix\n",
    "from sklearn.metrics import accuracy_score\n",
    "from sklearn.metrics import classification_report\n",
    "from sklearn.model_selection import GridSearchCV\n",
    "from sklearn.model_selection import train_test_split\n",
    "from sklearn.feature_extraction.text import CountVectorizer\n",
    "from sklearn.naive_bayes import MultinomialNB\n",
    "from wordcount import word_counter #wrote function to get all words and their specifit frequency in all messages"
   ]
  },
  {
   "cell_type": "code",
   "execution_count": 2,
   "metadata": {},
   "outputs": [],
   "source": [
    "df = pd.read_csv(\"Data/spam.csv\", encoding =\"latin-1\", usecols=[\"v1\",\"v2\"])\n",
    "df.columns = [\"label\", \"message\"]"
   ]
  },
  {
   "cell_type": "markdown",
   "metadata": {},
   "source": [
    "## Exploratory Data Analysis"
   ]
  },
  {
   "cell_type": "code",
   "execution_count": 3,
   "metadata": {},
   "outputs": [
    {
     "data": {
      "text/html": [
       "<div>\n",
       "<style scoped>\n",
       "    .dataframe tbody tr th:only-of-type {\n",
       "        vertical-align: middle;\n",
       "    }\n",
       "\n",
       "    .dataframe tbody tr th {\n",
       "        vertical-align: top;\n",
       "    }\n",
       "\n",
       "    .dataframe thead th {\n",
       "        text-align: right;\n",
       "    }\n",
       "</style>\n",
       "<table border=\"1\" class=\"dataframe\">\n",
       "  <thead>\n",
       "    <tr style=\"text-align: right;\">\n",
       "      <th></th>\n",
       "      <th>label</th>\n",
       "      <th>message</th>\n",
       "    </tr>\n",
       "  </thead>\n",
       "  <tbody>\n",
       "    <tr>\n",
       "      <th>0</th>\n",
       "      <td>ham</td>\n",
       "      <td>Go until jurong point, crazy.. Available only ...</td>\n",
       "    </tr>\n",
       "    <tr>\n",
       "      <th>1</th>\n",
       "      <td>ham</td>\n",
       "      <td>Ok lar... Joking wif u oni...</td>\n",
       "    </tr>\n",
       "    <tr>\n",
       "      <th>2</th>\n",
       "      <td>spam</td>\n",
       "      <td>Free entry in 2 a wkly comp to win FA Cup fina...</td>\n",
       "    </tr>\n",
       "    <tr>\n",
       "      <th>3</th>\n",
       "      <td>ham</td>\n",
       "      <td>U dun say so early hor... U c already then say...</td>\n",
       "    </tr>\n",
       "    <tr>\n",
       "      <th>4</th>\n",
       "      <td>ham</td>\n",
       "      <td>Nah I don't think he goes to usf, he lives aro...</td>\n",
       "    </tr>\n",
       "  </tbody>\n",
       "</table>\n",
       "</div>"
      ],
      "text/plain": [
       "  label                                            message\n",
       "0   ham  Go until jurong point, crazy.. Available only ...\n",
       "1   ham                      Ok lar... Joking wif u oni...\n",
       "2  spam  Free entry in 2 a wkly comp to win FA Cup fina...\n",
       "3   ham  U dun say so early hor... U c already then say...\n",
       "4   ham  Nah I don't think he goes to usf, he lives aro..."
      ]
     },
     "execution_count": 3,
     "metadata": {},
     "output_type": "execute_result"
    }
   ],
   "source": [
    "df.head()"
   ]
  },
  {
   "cell_type": "code",
   "execution_count": 4,
   "metadata": {},
   "outputs": [
    {
     "name": "stdout",
     "output_type": "stream",
     "text": [
      "<class 'pandas.core.frame.DataFrame'>\n",
      "RangeIndex: 5572 entries, 0 to 5571\n",
      "Data columns (total 2 columns):\n",
      "label      5572 non-null object\n",
      "message    5572 non-null object\n",
      "dtypes: object(2)\n",
      "memory usage: 87.1+ KB\n"
     ]
    }
   ],
   "source": [
    "df.info()"
   ]
  },
  {
   "cell_type": "code",
   "execution_count": 5,
   "metadata": {},
   "outputs": [
    {
     "data": {
      "image/png": "[encoded data removed]",
      "text/plain": [
       "<Figure size 432x288 with 1 Axes>"
      ]
     },
     "metadata": {},
     "output_type": "display_data"
    }
   ],
   "source": [
    "#counts number of occurences of unique values in category (ham and spam)\n",
    "sns.set()\n",
    "_ = sns.countplot(data = df, x=df[\"label\"]).set_title(\"message distribution\", fontweight=\"bold\")\n",
    "plt.show()"
   ]
  },
  {
   "cell_type": "code",
   "execution_count": 6,
   "metadata": {},
   "outputs": [
    {
     "data": {
      "image/png": "[encoded data removed]",
      "text/plain": [
       "<Figure size 432x288 with 1 Axes>"
      ]
     },
     "metadata": {},
     "output_type": "display_data"
    },
    {
     "data": {
      "image/png": "[encoded data removed]",
      "text/plain": [
       "<Figure size 432x288 with 1 Axes>"
      ]
     },
     "metadata": {},
     "output_type": "display_data"
    }
   ],
   "source": [
    "ham = word_counter(df[df[\"label\"]==\"ham\"][\"message\"])\n",
    "spam = word_counter(df[df[\"label\"]==\"spam\"][\"message\"])\n",
    "ham_sorted = sorted(ham.items(), key=lambda kv: kv[1], reverse=True)\n",
    "spam_sorted = sorted(spam.items(), key=lambda kv: kv[1], reverse=True)\n",
    "\n",
    "top15_spam = spam_sorted[:15]\n",
    "top15_ham = ham_sorted[:15]\n",
    "\n",
    "#slice word and occurences so I can easily plot them\n",
    "top_words_ham = [i[0] for i in top15_ham]  #(to,1530) [0]=to [1]=1530  \n",
    "top_occurences_ham = [i[1] for i in top15_ham]\n",
    "top_words_spam = [i[0] for i in top15_spam]       \n",
    "top_occurences_spam = [i[1] for i in top15_spam]\n",
    "\n",
    "plt.bar(top_words_ham, top_occurences_ham, color = 'green')\n",
    "plt.title(\"Top 15 ham words\")\n",
    "plt.xticks(rotation='vertical')\n",
    "plt.show()\n",
    "\n",
    "plt.bar(top_words_spam, top_occurences_spam, color = \"red\")\n",
    "plt.title(\"Top 15 spam words\")\n",
    "plt.xticks(rotation='vertical')\n",
    "plt.show()"
   ]
  },
  {
   "cell_type": "markdown",
   "metadata": {},
   "source": [
    "## Data Preprocessing\n",
    "\n",
    "Top 15 spam and no spam words have many similarities as both of them represent common words that are used in many messages, wether it being spam or no spam (ham). Those so-called 'stop-words' have to be removed before fitting the messages to the model, because they dont help in distinguising between spam or no spam (ham). Same goes for words that occur very rarely. To avoid overfitting those have to be removed aswell. I will do this by specifying the hyperparameters min_df, max_features and stop_words of the CountVectorizer"
   ]
  },
  {
   "cell_type": "code",
   "execution_count": 7,
   "metadata": {},
   "outputs": [
    {
     "data": {
      "text/plain": [
       "<4179x109 sparse matrix of type '<class 'numpy.int64'>'\n",
       "\twith 9785 stored elements in Compressed Sparse Row format>"
      ]
     },
     "execution_count": 7,
     "metadata": {},
     "output_type": "execute_result"
    }
   ],
   "source": [
    "X = df[\"message\"]\n",
    "y = df[\"label\"]\n",
    "\n",
    "X_train, X_test, y_train, y_test = train_test_split(X, y, random_state = 0, test_size = 0.25, stratify = y)\n",
    "\n",
    "cv = CountVectorizer(min_df = 0.01, max_features = 300, stop_words = 'english') #1% / 300 occurences\n",
    "cv.fit(X_train)\n",
    "\n",
    "X_train_cv = cv.transform(X_train)\n",
    "X_test_cv = cv.transform(X_test)\n",
    "\n",
    "X_train_cv"
   ]
  },
  {
   "cell_type": "markdown",
   "metadata": {},
   "source": [
    "As you can see in the output, a sparse matrix has been created.\n",
    "\n",
    "<4197x108 sparse matrixs> means that there are 4197 messages in our training data and 108 columns, one for each feature that are left after the CV-Transformation (low frequency words, high frequency words/stop words have been removed).\n",
    "\n",
    "Lets take a closer look as to how this matrix looks like and what informations we can extract from it. Firstly I will check what features/words are left and then go over the outputs of the CV-Transformation with the first spam message as example"
   ]
  },
  {
   "cell_type": "markdown",
   "metadata": {},
   "source": [
    "#### Example: CountVectorizer Transformation on first spam message\n",
    "\n",
    "Message: Free entry in 2 a wkly comp to win FA Cup final tkts 21st May 2005. Text FA to 87121 to receive entry question(std txt rate)T&C's apply 08452810075over18's"
   ]
  },
  {
   "cell_type": "code",
   "execution_count": 8,
   "metadata": {},
   "outputs": [
    {
     "name": "stdout",
     "output_type": "stream",
     "text": [
      "  (0, 9)\t1\n",
      "  (0, 23)\t1\n",
      "  (0, 37)\t1\n",
      "  (0, 58)\t1\n",
      "  (0, 78)\t1\n",
      "  (0, 89)\t1\n",
      "  (0, 91)\t1\n"
     ]
    }
   ],
   "source": [
    "X_train[2]\n",
    "\n",
    "print(X_train_cv[1])"
   ]
  },
  {
   "cell_type": "code",
   "execution_count": 9,
   "metadata": {},
   "outputs": [
    {
     "name": "stdout",
     "output_type": "stream",
     "text": [
      "All features/words after transformation:\n",
      " \n",
      "['150p', '50', 'amp', 'ask', 'babe', 'buy', 'care', 'cash', 'claim', 'com', 'come', 'coming', 'contact', 'cos', 'customer', 'da', 'day', 'dear', 'did', 'doing', 'don', 'dont', 'fine', 'free', 'friend', 'going', 'gonna', 'good', 'got', 'great', 'gt', 'happy', 'hey', 'hi', 'home', 'hope', 'im', 'just', 'know', 'later', 'let', 'life', 'like', 'll', 'lol', 'lor', 'love', 'lt', 'make', 'meet', 'message', 'min', 'miss', 'mobile', 'money', 'morning', 'msg', 'need', 'new', 'night', 'number', 'oh', 'ok', 'phone', 'pick', 'place', 'pls', 'prize', 'really', 'reply', 'right', 'said', 'say', 'send', 'sent', 'service', 'soon', 'sorry', 'stop', 'sure', 'tell', 'text', 'thanks', 'thing', 'think', 'time', 'today', 'tomorrow', 'tonight', 'txt', 'uk', 'ur', 'urgent', 've', 'wait', 'wan', 'want', 'wat', 'way', 'week', 'went', 'win', 'won', 'work', 'www', 'yeah', 'yes', '½_', '½ï']\n",
      "\n",
      "----------------------------------------------------\n",
      "\n",
      "First spam message: \n",
      "\n",
      "Free entry in 2 a wkly comp to win FA Cup final tkts 21st May 2005. Text FA to 87121 to receive entry question(std txt rate)T&C's apply 08452810075over18's\n",
      "\n",
      "\n",
      "----------------------------------------------------\n",
      "\n",
      "(Message, Word-Column) Frequency\n",
      "\n",
      "  (0, 9)\t1\n",
      "  (0, 23)\t1\n",
      "  (0, 37)\t1\n",
      "  (0, 58)\t1\n",
      "  (0, 78)\t1\n",
      "  (0, 89)\t1\n",
      "  (0, 91)\t1\n",
      "\n",
      "----------------------------------------------------\n",
      "\n",
      "\n",
      "Sparse-Matrix Array (one entry for each word in and their frequency in message 1):\n",
      " \n",
      "[0 0 0 0 0 0 0 0 0 1 0 0 0 0 0 0 0 0 0 0 0 0 0 1 0 0 0 0 0 0 0 0 0 0 0 0 0\n",
      " 1 0 0 0 0 0 0 0 0 0 0 0 0 0 0 0 0 0 0 0 0 1 0 0 0 0 0 0 0 0 0 0 0 0 0 0 0\n",
      " 0 0 0 0 1 0 0 0 0 0 0 0 0 0 0 1 0 1 0 0 0 0 0 0 0 0 0 0 0 0 0 0 0 0 0]\n",
      "\n",
      "----------------------------------------------------\n",
      "\n",
      "\n",
      "Features names after CV-Transformation: com free just new stop txt ur\n",
      "\n"
     ]
    }
   ],
   "source": [
    "features = cv.get_feature_names()\n",
    "print('All features/words after transformation:\\n \\n{}\\n'.format(features))\n",
    "print('----------------------------------------------------\\n\\nFirst spam message: \\n')\n",
    "print(X_train[2])\n",
    "print(\"\\n\")\n",
    "print('----------------------------------------------------\\n')\n",
    "print('(Message, Word-Column) Frequency\\n\\n{}\\n'.format(X_train_cv[1]))\n",
    "print('----------------------------------------------------\\n\\n')\n",
    "print('Sparse-Matrix Array (one entry for each word in and their frequency in message 1):\\n \\n{}\\n'.format(X_train_cv.toarray()[1]))\n",
    "print('----------------------------------------------------\\n\\n')\n",
    "print('Features names after CV-Transformation: {} {} {} {} {} {} {}\\n'.format(features[9],\n",
    "                                                                  features[23],\n",
    "                                                                  features[37],\n",
    "                                                                  features[58],\n",
    "                                                                  features[78],\n",
    "                                                                  features[89],\n",
    "                                                                  features[91]))"
   ]
  },
  {
   "cell_type": "markdown",
   "metadata": {},
   "source": [
    "As shown above, the CountVecorizer succesfully filtered out words that we should not fit our model with (e.g. stopwords)\n",
    "\n",
    "## Modeling"
   ]
  },
  {
   "cell_type": "code",
   "execution_count": 10,
   "metadata": {},
   "outputs": [
    {
     "data": {
      "text/plain": [
       "MultinomialNB(alpha=1.0, class_prior=None, fit_prior=True)"
      ]
     },
     "execution_count": 10,
     "metadata": {},
     "output_type": "execute_result"
    }
   ],
   "source": [
    "model = MultinomialNB()\n",
    "model.fit(X_train_cv, y_train)"
   ]
  },
  {
   "cell_type": "markdown",
   "metadata": {},
   "source": [
    "## Model Evaluation\n",
    "\n",
    "- Accuracy\n",
    "- Confusion Matrix\n",
    "- Classificaion Report\n",
    "\n",
    "Format of Confusion-Matrix:\n",
    "\n",
    "| True ham | False spam\n",
    "| --- | ---- |\n",
    "| False ham | True spam |"
   ]
  },
  {
   "cell_type": "code",
   "execution_count": 11,
   "metadata": {},
   "outputs": [
    {
     "name": "stdout",
     "output_type": "stream",
     "text": [
      "Accuracy: 0.9597989949748744\n",
      "\n",
      "              precision    recall  f1-score   support\n",
      "\n",
      "         ham       0.97      0.98      0.98      1206\n",
      "        spam       0.87      0.82      0.85       187\n",
      "\n",
      "   micro avg       0.96      0.96      0.96      1393\n",
      "   macro avg       0.92      0.90      0.91      1393\n",
      "weighted avg       0.96      0.96      0.96      1393\n",
      "\n"
     ]
    },
    {
     "data": {
      "image/png": "[encoded data removed]",
      "text/plain": [
       "<Figure size 432x288 with 2 Axes>"
      ]
     },
     "metadata": {},
     "output_type": "display_data"
    }
   ],
   "source": [
    "y_test_pred = model.predict(X_test_cv)\n",
    "\n",
    "print('Accuracy: {}\\n'.format(accuracy_score(y_test, y_test_pred)))\n",
    "\n",
    "\n",
    "cm = confusion_matrix(y_test, y_test_pred)\n",
    "ax= plt.subplot()\n",
    "sns.heatmap(cm, annot=True, ax = ax, fmt='g'); #annot=True to annotate cells\n",
    "\n",
    "# labels, title and ticks\n",
    "ax.set_xlabel('Predicted labels');ax.set_ylabel('True labels'); \n",
    "ax.set_title('Confusion Matrix'); \n",
    "ax.xaxis.set_ticklabels(['ham', 'spam']); ax.yaxis.set_ticklabels(['ham', 'spam']);\n",
    "\n",
    "print(classification_report(y_test, y_test_pred))"
   ]
  },
  {
   "cell_type": "markdown",
   "metadata": {},
   "source": [
    "The Metrics of the Spamfilter are already pretty good. One think I could try to improve is the \n",
    "specificity (FN/ (TN+FP)) because false negatives (spam goes to the inbox) are more acceptable than false positives (non-spam is caught by the spam filter), which happened 21/1393 times in the testing data."
   ]
  },
  {
   "cell_type": "markdown",
   "metadata": {},
   "source": [
    "## Hyperparameter Tuning\n",
    "\n",
    "- alpha: Additive (Laplace/Lidstone) smoothing parameter (avoids probabilities from being 0 if a combination is not given in the training set)\n",
    "- fit-prior: Whether to learn class prior probabilities or not. If false, a uniform prior will be used."
   ]
  },
  {
   "cell_type": "code",
   "execution_count": 12,
   "metadata": {},
   "outputs": [
    {
     "name": "stdout",
     "output_type": "stream",
     "text": [
      "Tuned Hyperparameter: {'alpha': 0.9816326530612246, 'fit_prior': True}\n",
      "Tuned Hyperparameter R squared: 0.9597989949748744\n"
     ]
    }
   ],
   "source": [
    "alpha_space = np.linspace(0.1,1, 50)\n",
    "parameters = {'alpha' : alpha_space, 'fit_prior' : [True,False]}\n",
    "\n",
    "nb_clf = GridSearchCV(model, parameters, cv=5, refit = True, scoring='accuracy')\n",
    "nb_clf.fit(X_train_cv, y_train)\n",
    "\n",
    "r2 = nb_clf.score(X_test_cv, y_test)\n",
    "print(\"Tuned Hyperparameter: {}\".format(nb_clf.best_params_))\n",
    "print(\"Tuned Hyperparameter R squared: {}\".format(r2))"
   ]
  },
  {
   "cell_type": "markdown",
   "metadata": {},
   "source": [
    "Lets take a closer look at the features that help our modle to distinguish between spam and ham and their coefficients/log probabilities "
   ]
  },
  {
   "cell_type": "code",
   "execution_count": 13,
   "metadata": {},
   "outputs": [
    {
     "name": "stdout",
     "output_type": "stream",
     "text": [
      "\n",
      "top 20 weighted ham (no spam) features\n",
      "\n",
      "\n",
      "(-7.863953358524387, 'amp')\n",
      "(-7.863953358524387, 'ask')\n",
      "(-7.863953358524387, 'coming')\n",
      "(-7.863953358524387, 'cos')\n",
      "(-7.863953358524387, 'da')\n",
      "(-7.863953358524387, 'doing')\n",
      "(-7.863953358524387, 'fine')\n",
      "(-7.863953358524387, 'gonna')\n",
      "(-7.863953358524387, 'gt')\n",
      "(-7.863953358524387, 'later')\n",
      "(-7.863953358524387, 'lol')\n",
      "(-7.863953358524387, 'lor')\n",
      "(-7.863953358524387, 'lt')\n",
      "(-7.863953358524387, 'morning')\n",
      "(-7.863953358524387, 'pick')\n",
      "(-7.863953358524387, 'said')\n",
      "(-7.863953358524387, 'say')\n",
      "(-7.863953358524387, 'sure')\n",
      "(-7.863953358524387, 'wait')\n",
      "(-7.863953358524387, 'went')\n",
      "\n",
      "top 20 weighted spam features\n",
      "\n",
      "\n",
      "(-4.017173210924762, 'com')\n",
      "(-3.9539698535014303, 'new')\n",
      "(-3.9539698535014303, 'win')\n",
      "(-3.913949813726219, 'uk')\n",
      "(-3.875469937752796, '150p')\n",
      "(-3.838416059829836, 'won')\n",
      "(-3.820391588928458, 'send')\n",
      "(-3.7025720988310082, 'cash')\n",
      "(-3.6868191851511742, 'just')\n",
      "(-3.569004253094297, 'prize')\n",
      "(-3.541598382520923, 'reply')\n",
      "(-3.528172051940751, 'www')\n",
      "(-3.438920007387024, 'claim')\n",
      "(-3.4267959475544725, 'stop')\n",
      "(-3.391281537883714, 'text')\n",
      "(-3.2404287418768094, 'mobile')\n",
      "(-3.109377919190141, 'ur')\n",
      "(-3.03338022132749, 'txt')\n",
      "(-2.7335381019590326, 'free')\n",
      "(-2.3524293828315486, '½ï')\n"
     ]
    }
   ],
   "source": [
    "#feature_log_prob_ : array, shape (n_classes, n_features)\n",
    "#Empirical log probability of features given a class, P(x_i|y).\n",
    "\n",
    "#coef_ : array, shape (n_classes, n_features)\n",
    "#Mirrors feature_log_prob_ for interpreting MultinomialNB as a linear model.\n",
    "\n",
    "\n",
    "# Get the class labels: class_labels\n",
    "class_labels = nb_clf.best_estimator_.classes_\n",
    "\n",
    "# Extract the features: feature_names\n",
    "feature_names = cv.get_feature_names()\n",
    "\n",
    "# Zip the feature names together with the coefficient array and sort by weights (ascending): feat_with_weights\n",
    "feat_with_weights = sorted(zip(nb_clf.best_estimator_.coef_[0], feature_names))\n",
    "\n",
    "#top 20 feat_with_weights entries\n",
    "print(\"\\ntop 20 weighted ham (no spam) features\\n\\n\")\n",
    "for feature in feat_with_weights[:20]:\n",
    "    print(feature)\n",
    "\n",
    "#bottom 20 feat_with_weights entries\n",
    "print(\"\\ntop 20 weighted spam features\\n\\n\")\n",
    "for feature in feat_with_weights[-20:]:\n",
    "    print(feature)"
   ]
  },
  {
   "cell_type": "markdown",
   "metadata": {},
   "source": [
    "#### Function to classify spam / ham (no spam)"
   ]
  },
  {
   "cell_type": "code",
   "execution_count": 14,
   "metadata": {},
   "outputs": [
    {
     "name": "stdout",
     "output_type": "stream",
     "text": [
      "Message: sign up for free cash = This message is spam!\n",
      "Message: good morning, are you coming?  = This message is no spam!\n"
     ]
    }
   ],
   "source": [
    "def classifier(message):\n",
    "\n",
    "    transformed = cv.transform([message])\n",
    "    prediction = model.predict(transformed)\n",
    "\n",
    "    if prediction == \"ham\":\n",
    "        return \"This message is no spam!\"\n",
    "    else:\n",
    "        return \"This message is spam!\"\n",
    "    \n",
    "print('Message: sign up for free cash = {}'.format(classifier(\"sign up for free cash\")))\n",
    "print('Message: good morning, are you coming?  = {}'.format(classifier(\"good morning, are you coming?\")))"
   ]
  }
 ],
 "metadata": {
  "kernelspec": {
   "display_name": "Python 3",
   "language": "python",
   "name": "python3"
  },
  "language_info": {
   "codemirror_mode": {
    "name": "ipython",
    "version": 3
   },
   "file_extension": ".py",
   "mimetype": "text/x-python",
   "name": "python",
   "nbconvert_exporter": "python",
   "pygments_lexer": "ipython3",
   "version": "3.7.1"
  }
 },
 "nbformat": 4,
 "nbformat_minor": 2
}
